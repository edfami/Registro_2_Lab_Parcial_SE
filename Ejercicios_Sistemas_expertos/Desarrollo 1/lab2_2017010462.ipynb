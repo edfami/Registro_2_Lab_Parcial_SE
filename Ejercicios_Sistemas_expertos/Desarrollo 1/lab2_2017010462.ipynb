{
 "metadata": {
  "language_info": {
   "codemirror_mode": {
    "name": "ipython",
    "version": 3
   },
   "file_extension": ".py",
   "mimetype": "text/x-python",
   "name": "python",
   "nbconvert_exporter": "python",
   "pygments_lexer": "ipython3",
   "version": "3.8.5-final"
  },
  "orig_nbformat": 2,
  "kernelspec": {
   "name": "Python 3.8.5 32-bit",
   "display_name": "Python 3.8.5 32-bit",
   "metadata": {
    "interpreter": {
     "hash": "fb3b750c666d33c8adccbff9ac54957b9e292f529d38001aa6b3b526d50e6ddb"
    }
   }
  }
 },
 "nbformat": 4,
 "nbformat_minor": 2,
 "cells": [
  {
   "cell_type": "code",
   "execution_count": 1,
   "metadata": {},
   "outputs": [],
   "source": [
    "import numpy as np \n",
    "import time \n",
    "import pandas as pd \n"
   ]
  },
  {
   "cell_type": "code",
   "execution_count": 4,
   "metadata": {},
   "outputs": [],
   "source": [
    "generador_de_datos_aleatorios = np.random.normal(500,30,10000000)"
   ]
  },
  {
   "cell_type": "code",
   "execution_count": 6,
   "metadata": {},
   "outputs": [
    {
     "output_type": "stream",
     "name": "stdout",
     "text": [
      "La suma de los datos es:  5000002388.201571\nDuracion: 5.2660839557647705 segundos\n"
     ]
    }
   ],
   "source": [
    "inicio = time.time()\n",
    "datos_generados = []\n",
    "\n",
    "for dato in generador_de_datos_aleatorios:\n",
    "    if dato <= 500000:\n",
    "        datos_generados.append(dato)\n",
    "\n",
    "print('La suma de los datos es: ', sum(datos_generados))\n",
    "print('Duracion: {} segundos'.format(time.time() - inicio))"
   ]
  }
 ]
}