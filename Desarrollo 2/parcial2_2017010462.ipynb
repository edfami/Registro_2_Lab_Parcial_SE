{
 "metadata": {
  "language_info": {
   "codemirror_mode": {
    "name": "ipython",
    "version": 3
   },
   "file_extension": ".py",
   "mimetype": "text/x-python",
   "name": "python",
   "nbconvert_exporter": "python",
   "pygments_lexer": "ipython3",
   "version": "3.8.5-final"
  },
  "orig_nbformat": 2,
  "kernelspec": {
   "name": "Python 3.8.5 32-bit",
   "display_name": "Python 3.8.5 32-bit",
   "metadata": {
    "interpreter": {
     "hash": "fb3b750c666d33c8adccbff9ac54957b9e292f529d38001aa6b3b526d50e6ddb"
    }
   }
  }
 },
 "nbformat": 4,
 "nbformat_minor": 2,
 "cells": [
  {
   "cell_type": "code",
   "execution_count": 8,
   "metadata": {},
   "outputs": [],
   "source": [
    "import numpy as np \n",
    "import time \n"
   ]
  },
  {
   "cell_type": "code",
   "execution_count": 9,
   "metadata": {},
   "outputs": [],
   "source": [
    "generador_de_datos_aleatorios = np.random.normal(500,30,10000000)"
   ]
  },
  {
   "cell_type": "code",
   "execution_count": 10,
   "metadata": {},
   "outputs": [
    {
     "output_type": "stream",
     "name": "stdout",
     "text": [
      "La suma de los datos es:  4999950890.874673\nDuracion: 5.314201831817627 segundos\n"
     ]
    }
   ],
   "source": [
    "inicio = time.time()\n",
    "datos_generados = []\n",
    "\n",
    "for dato in generador_de_datos_aleatorios:\n",
    "    if dato <= 500000:\n",
    "        datos_generados.append(dato)\n",
    "\n",
    "print('La suma de los datos es: ', sum(datos_generados))\n",
    "print('Duracion: {} segundos'.format(time.time() - inicio))"
   ]
  },
  {
   "cell_type": "code",
   "execution_count": null,
   "metadata": {},
   "outputs": [],
   "source": []
  },
  {
   "cell_type": "code",
   "execution_count": 16,
   "metadata": {},
   "outputs": [
    {
     "output_type": "stream",
     "name": "stdout",
     "text": [
      "La sumatoria de los datos es:  699983385\nDuracion: 0.029997825622558594 segundos\n"
     ]
    }
   ],
   "source": [
    "inicio = time.time()\n",
    "\n",
    "datos_generados = np.array(generador_de_datos_aleatorios, int)\n",
    "\n",
    "dato = (np.sum(datos_generados, where=(dato <= 500000)))\n",
    "\n",
    "print('La sumatoria de los datos es: ', str(dato))\n",
    "print('Duracion: {} segundos'.format(time.time() - inicio))\n"
   ]
  },
  {
   "cell_type": "code",
   "execution_count": null,
   "metadata": {},
   "outputs": [],
   "source": []
  }
 ]
}